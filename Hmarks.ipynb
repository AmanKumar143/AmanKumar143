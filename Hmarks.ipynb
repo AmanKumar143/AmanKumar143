{
 "cells": [
  {
   "cell_type": "code",
   "execution_count": 4,
   "id": "fee3cde2",
   "metadata": {},
   "outputs": [
    {
     "name": "stdout",
     "output_type": "stream",
     "text": [
      "Gender highest marks :  male\n"
     ]
    }
   ],
   "source": [
    "import pandas as pd\n",
    "data = [\n",
    "    {\"name\": \"Aman\", \"place\": \"Gurgaon\", \"gender\": \"male\", \"Hmarks\":67, \"Age\":21},\n",
    "    {\"name\": \"Nandini\", \"place\": \"Delhi\", \"gender\": \"female\", \"Hmarks\":57, \"Age\":19},\n",
    "    {\"name\": \"Khushi\", \"place\": \"Haryana\", \"gender\": \"female\", \"Hmarks\":88, \"Age\":25},\n",
    "    {\"name\": \"Mukul\", \"place\": \"Delhi\", \"gender\": \"male\", \"Hmarks\":97, \"Age\":22},\n",
    "    {\"name\": \"Riya\", \"place\": \"UP\", \"gender\": \"female\", \"Hmarks\":95, \"Age\":23}\n",
    "]\n",
    "df = pd.DataFrame(data)\n",
    "HighestMarks = df['Hmarks'].max()\n",
    "GenHighMarks = df.loc[df['Hmarks'] == HighestMarks, 'gender'].values[0]\n",
    "print(\"Gender highest marks : \", GenHighMarks)"
   ]
  },
  {
   "cell_type": "code",
   "execution_count": null,
   "id": "6fe2b6a9",
   "metadata": {},
   "outputs": [],
   "source": []
  }
 ],
 "metadata": {
  "kernelspec": {
   "display_name": "Python 3 (ipykernel)",
   "language": "python",
   "name": "python3"
  },
  "language_info": {
   "codemirror_mode": {
    "name": "ipython",
    "version": 3
   },
   "file_extension": ".py",
   "mimetype": "text/x-python",
   "name": "python",
   "nbconvert_exporter": "python",
   "pygments_lexer": "ipython3",
   "version": "3.9.7"
  }
 },
 "nbformat": 4,
 "nbformat_minor": 5
}
